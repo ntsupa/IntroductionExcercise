{
 "cells": [
  {
   "cell_type": "markdown",
   "id": "1c95ffc7",
   "metadata": {},
   "source": [
    "\"\"My name is Maria Mackay.\"\""
   ]
  },
  {
   "cell_type": "markdown",
   "id": "e2d006d6",
   "metadata": {},
   "source": [
    "I was working in travel industry, and now I have an interest in date analytics."
   ]
  },
  {
   "cell_type": "code",
   "execution_count": null,
   "id": "6e5bd33f",
   "metadata": {},
   "outputs": [],
   "source": []
  }
 ],
 "metadata": {
  "kernelspec": {
   "display_name": "Python 3",
   "language": "python",
   "name": "python3"
  },
  "language_info": {
   "codemirror_mode": {
    "name": "ipython",
    "version": 3
   },
   "file_extension": ".py",
   "mimetype": "text/x-python",
   "name": "python",
   "nbconvert_exporter": "python",
   "pygments_lexer": "ipython3",
   "version": "3.8.8"
  }
 },
 "nbformat": 4,
 "nbformat_minor": 5
}
